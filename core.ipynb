{
 "cells": [
  {
   "cell_type": "code",
   "execution_count": 1,
   "id": "95ab1536-2f73-457f-8122-decc4f64eee9",
   "metadata": {
    "tags": []
   },
   "outputs": [
    {
     "name": "stdout",
     "output_type": "stream",
     "text": [
      "Cloning into 'VideoMAEv2'...\n",
      "remote: Enumerating objects: 128, done.\u001b[K\n",
      "remote: Counting objects: 100% (12/12), done.\u001b[K\n",
      "remote: Compressing objects: 100% (9/9), done.\u001b[K\n",
      "remote: Total 128 (delta 3), reused 3 (delta 3), pack-reused 116\u001b[K\n",
      "Receiving objects: 100% (128/128), 995.38 KiB | 15.55 MiB/s, done.\n",
      "Resolving deltas: 100% (57/57), done.\n"
     ]
    }
   ],
   "source": [
    "!git clone https://github.com/yerx/VideoMAE_v2.git"
   ]
  },
  {
   "cell_type": "code",
   "execution_count": 1,
   "id": "75fcca30-4ebb-4a69-be5e-69cfbd26fbdf",
   "metadata": {
    "tags": []
   },
   "outputs": [],
   "source": [
    "import os"
   ]
  },
  {
   "cell_type": "code",
   "execution_count": 3,
   "id": "890d7739-70ff-4bea-a788-dd9a8075a5c3",
   "metadata": {
    "tags": []
   },
   "outputs": [
    {
     "data": {
      "text/plain": [
       "'/home/studio-lab-user/sagemaker-studiolab-notebooks/videomaev2_v1/VideoMAEv2'"
      ]
     },
     "execution_count": 3,
     "metadata": {},
     "output_type": "execute_result"
    }
   ],
   "source": [
    "os.getcwd()"
   ]
  },
  {
   "cell_type": "code",
   "execution_count": 5,
   "id": "4d893112-99e8-4550-9e68-1b8b023d3551",
   "metadata": {
    "tags": []
   },
   "outputs": [
    {
     "name": "stdout",
     "output_type": "stream",
     "text": [
      "Requirement already satisfied: av in /home/studio-lab-user/.conda/envs/videomaev2_v1/lib/python3.8/site-packages (from -r requirements.txt (line 1)) (10.0.0)\n",
      "Requirement already satisfied: decord in /home/studio-lab-user/.conda/envs/videomaev2_v1/lib/python3.8/site-packages (from -r requirements.txt (line 2)) (0.6.0)\n",
      "Requirement already satisfied: deepspeed in /home/studio-lab-user/.conda/envs/videomaev2_v1/lib/python3.8/site-packages (from -r requirements.txt (line 3)) (0.9.2)\n",
      "Requirement already satisfied: einops in /home/studio-lab-user/.conda/envs/videomaev2_v1/lib/python3.8/site-packages (from -r requirements.txt (line 4)) (0.6.1)\n",
      "Requirement already satisfied: matplotlib in /home/studio-lab-user/.conda/envs/videomaev2_v1/lib/python3.8/site-packages (from -r requirements.txt (line 5)) (3.7.1)\n",
      "Requirement already satisfied: numpy in /home/studio-lab-user/.conda/envs/videomaev2_v1/lib/python3.8/site-packages (from -r requirements.txt (line 6)) (1.24.3)\n",
      "Requirement already satisfied: opencv-python-headless in /home/studio-lab-user/.conda/envs/videomaev2_v1/lib/python3.8/site-packages (from -r requirements.txt (line 7)) (4.7.0.72)\n",
      "Requirement already satisfied: pandas in /home/studio-lab-user/.conda/envs/videomaev2_v1/lib/python3.8/site-packages (from -r requirements.txt (line 8)) (2.0.2)\n",
      "Requirement already satisfied: Pillow in /home/studio-lab-user/.conda/envs/videomaev2_v1/lib/python3.8/site-packages (from -r requirements.txt (line 9)) (9.5.0)\n",
      "Requirement already satisfied: scipy in /home/studio-lab-user/.conda/envs/videomaev2_v1/lib/python3.8/site-packages (from -r requirements.txt (line 10)) (1.10.1)\n",
      "Requirement already satisfied: tensorboard==2.9.0 in /home/studio-lab-user/.conda/envs/videomaev2_v1/lib/python3.8/site-packages (from -r requirements.txt (line 11)) (2.9.0)\n",
      "Requirement already satisfied: tensorboardX==1.8 in /home/studio-lab-user/.conda/envs/videomaev2_v1/lib/python3.8/site-packages (from -r requirements.txt (line 12)) (1.8)\n",
      "Requirement already satisfied: timm==0.4.12 in /home/studio-lab-user/.conda/envs/videomaev2_v1/lib/python3.8/site-packages (from -r requirements.txt (line 13)) (0.4.12)\n",
      "Requirement already satisfied: torch>=1.2 in /home/studio-lab-user/.conda/envs/videomaev2_v1/lib/python3.8/site-packages (from -r requirements.txt (line 14)) (1.13.1)\n",
      "Requirement already satisfied: torchaudio in /home/studio-lab-user/.conda/envs/videomaev2_v1/lib/python3.8/site-packages (from -r requirements.txt (line 15)) (0.13.1)\n",
      "Requirement already satisfied: torchvision in /home/studio-lab-user/.conda/envs/videomaev2_v1/lib/python3.8/site-packages (from -r requirements.txt (line 16)) (0.14.1)\n",
      "Requirement already satisfied: triton==1.0.0 in /home/studio-lab-user/.conda/envs/videomaev2_v1/lib/python3.8/site-packages (from -r requirements.txt (line 17)) (1.0.0)\n",
      "Requirement already satisfied: absl-py>=0.4 in /home/studio-lab-user/.conda/envs/videomaev2_v1/lib/python3.8/site-packages (from tensorboard==2.9.0->-r requirements.txt (line 11)) (1.4.0)\n",
      "Requirement already satisfied: grpcio>=1.24.3 in /home/studio-lab-user/.conda/envs/videomaev2_v1/lib/python3.8/site-packages (from tensorboard==2.9.0->-r requirements.txt (line 11)) (1.54.2)\n",
      "Requirement already satisfied: google-auth<3,>=1.6.3 in /home/studio-lab-user/.conda/envs/videomaev2_v1/lib/python3.8/site-packages (from tensorboard==2.9.0->-r requirements.txt (line 11)) (2.19.1)\n",
      "Requirement already satisfied: google-auth-oauthlib<0.5,>=0.4.1 in /home/studio-lab-user/.conda/envs/videomaev2_v1/lib/python3.8/site-packages (from tensorboard==2.9.0->-r requirements.txt (line 11)) (0.4.6)\n",
      "Requirement already satisfied: markdown>=2.6.8 in /home/studio-lab-user/.conda/envs/videomaev2_v1/lib/python3.8/site-packages (from tensorboard==2.9.0->-r requirements.txt (line 11)) (3.4.3)\n",
      "Requirement already satisfied: protobuf>=3.9.2 in /home/studio-lab-user/.conda/envs/videomaev2_v1/lib/python3.8/site-packages (from tensorboard==2.9.0->-r requirements.txt (line 11)) (3.20.0)\n",
      "Requirement already satisfied: requests<3,>=2.21.0 in /home/studio-lab-user/.conda/envs/videomaev2_v1/lib/python3.8/site-packages (from tensorboard==2.9.0->-r requirements.txt (line 11)) (2.31.0)\n",
      "Requirement already satisfied: setuptools>=41.0.0 in /home/studio-lab-user/.conda/envs/videomaev2_v1/lib/python3.8/site-packages (from tensorboard==2.9.0->-r requirements.txt (line 11)) (67.7.2)\n",
      "Requirement already satisfied: tensorboard-data-server<0.7.0,>=0.6.0 in /home/studio-lab-user/.conda/envs/videomaev2_v1/lib/python3.8/site-packages (from tensorboard==2.9.0->-r requirements.txt (line 11)) (0.6.1)\n",
      "Requirement already satisfied: tensorboard-plugin-wit>=1.6.0 in /home/studio-lab-user/.conda/envs/videomaev2_v1/lib/python3.8/site-packages (from tensorboard==2.9.0->-r requirements.txt (line 11)) (1.8.1)\n",
      "Requirement already satisfied: werkzeug>=1.0.1 in /home/studio-lab-user/.conda/envs/videomaev2_v1/lib/python3.8/site-packages (from tensorboard==2.9.0->-r requirements.txt (line 11)) (2.3.4)\n",
      "Requirement already satisfied: wheel>=0.26 in /home/studio-lab-user/.conda/envs/videomaev2_v1/lib/python3.8/site-packages (from tensorboard==2.9.0->-r requirements.txt (line 11)) (0.40.0)\n",
      "Requirement already satisfied: six in /home/studio-lab-user/.conda/envs/videomaev2_v1/lib/python3.8/site-packages (from tensorboardX==1.8->-r requirements.txt (line 12)) (1.16.0)\n",
      "Requirement already satisfied: hjson in /home/studio-lab-user/.conda/envs/videomaev2_v1/lib/python3.8/site-packages (from deepspeed->-r requirements.txt (line 3)) (3.1.0)\n",
      "Requirement already satisfied: ninja in /home/studio-lab-user/.conda/envs/videomaev2_v1/lib/python3.8/site-packages (from deepspeed->-r requirements.txt (line 3)) (1.11.1)\n",
      "Requirement already satisfied: packaging>=20.0 in /home/studio-lab-user/.conda/envs/videomaev2_v1/lib/python3.8/site-packages (from deepspeed->-r requirements.txt (line 3)) (23.1)\n",
      "Requirement already satisfied: psutil in /home/studio-lab-user/.conda/envs/videomaev2_v1/lib/python3.8/site-packages (from deepspeed->-r requirements.txt (line 3)) (5.9.5)\n",
      "Requirement already satisfied: py-cpuinfo in /home/studio-lab-user/.conda/envs/videomaev2_v1/lib/python3.8/site-packages (from deepspeed->-r requirements.txt (line 3)) (9.0.0)\n",
      "Requirement already satisfied: pydantic<2.0.0 in /home/studio-lab-user/.conda/envs/videomaev2_v1/lib/python3.8/site-packages (from deepspeed->-r requirements.txt (line 3)) (1.10.8)\n",
      "Requirement already satisfied: tqdm in /home/studio-lab-user/.conda/envs/videomaev2_v1/lib/python3.8/site-packages (from deepspeed->-r requirements.txt (line 3)) (4.65.0)\n",
      "Requirement already satisfied: contourpy>=1.0.1 in /home/studio-lab-user/.conda/envs/videomaev2_v1/lib/python3.8/site-packages (from matplotlib->-r requirements.txt (line 5)) (1.0.7)\n",
      "Requirement already satisfied: cycler>=0.10 in /home/studio-lab-user/.conda/envs/videomaev2_v1/lib/python3.8/site-packages (from matplotlib->-r requirements.txt (line 5)) (0.11.0)\n",
      "Requirement already satisfied: fonttools>=4.22.0 in /home/studio-lab-user/.conda/envs/videomaev2_v1/lib/python3.8/site-packages (from matplotlib->-r requirements.txt (line 5)) (4.39.4)\n",
      "Requirement already satisfied: kiwisolver>=1.0.1 in /home/studio-lab-user/.conda/envs/videomaev2_v1/lib/python3.8/site-packages (from matplotlib->-r requirements.txt (line 5)) (1.4.4)\n",
      "Requirement already satisfied: pyparsing>=2.3.1 in /home/studio-lab-user/.conda/envs/videomaev2_v1/lib/python3.8/site-packages (from matplotlib->-r requirements.txt (line 5)) (3.0.9)\n",
      "Requirement already satisfied: python-dateutil>=2.7 in /home/studio-lab-user/.conda/envs/videomaev2_v1/lib/python3.8/site-packages (from matplotlib->-r requirements.txt (line 5)) (2.8.2)\n",
      "Requirement already satisfied: importlib-resources>=3.2.0 in /home/studio-lab-user/.conda/envs/videomaev2_v1/lib/python3.8/site-packages (from matplotlib->-r requirements.txt (line 5)) (5.12.0)\n",
      "Requirement already satisfied: pytz>=2020.1 in /home/studio-lab-user/.conda/envs/videomaev2_v1/lib/python3.8/site-packages (from pandas->-r requirements.txt (line 8)) (2023.3)\n",
      "Requirement already satisfied: tzdata>=2022.1 in /home/studio-lab-user/.conda/envs/videomaev2_v1/lib/python3.8/site-packages (from pandas->-r requirements.txt (line 8)) (2023.3)\n",
      "Requirement already satisfied: typing-extensions in /home/studio-lab-user/.conda/envs/videomaev2_v1/lib/python3.8/site-packages (from torch>=1.2->-r requirements.txt (line 14)) (4.6.2)\n",
      "Requirement already satisfied: nvidia-cuda-runtime-cu11==11.7.99 in /home/studio-lab-user/.conda/envs/videomaev2_v1/lib/python3.8/site-packages (from torch>=1.2->-r requirements.txt (line 14)) (11.7.99)\n",
      "Requirement already satisfied: nvidia-cudnn-cu11==8.5.0.96 in /home/studio-lab-user/.conda/envs/videomaev2_v1/lib/python3.8/site-packages (from torch>=1.2->-r requirements.txt (line 14)) (8.5.0.96)\n",
      "Requirement already satisfied: nvidia-cublas-cu11==11.10.3.66 in /home/studio-lab-user/.conda/envs/videomaev2_v1/lib/python3.8/site-packages (from torch>=1.2->-r requirements.txt (line 14)) (11.10.3.66)\n",
      "Requirement already satisfied: nvidia-cuda-nvrtc-cu11==11.7.99 in /home/studio-lab-user/.conda/envs/videomaev2_v1/lib/python3.8/site-packages (from torch>=1.2->-r requirements.txt (line 14)) (11.7.99)\n",
      "Requirement already satisfied: cachetools<6.0,>=2.0.0 in /home/studio-lab-user/.conda/envs/videomaev2_v1/lib/python3.8/site-packages (from google-auth<3,>=1.6.3->tensorboard==2.9.0->-r requirements.txt (line 11)) (5.3.1)\n",
      "Requirement already satisfied: pyasn1-modules>=0.2.1 in /home/studio-lab-user/.conda/envs/videomaev2_v1/lib/python3.8/site-packages (from google-auth<3,>=1.6.3->tensorboard==2.9.0->-r requirements.txt (line 11)) (0.3.0)\n",
      "Requirement already satisfied: rsa<5,>=3.1.4 in /home/studio-lab-user/.conda/envs/videomaev2_v1/lib/python3.8/site-packages (from google-auth<3,>=1.6.3->tensorboard==2.9.0->-r requirements.txt (line 11)) (4.9)\n",
      "Requirement already satisfied: urllib3<2.0 in /home/studio-lab-user/.conda/envs/videomaev2_v1/lib/python3.8/site-packages (from google-auth<3,>=1.6.3->tensorboard==2.9.0->-r requirements.txt (line 11)) (1.26.16)\n",
      "Requirement already satisfied: requests-oauthlib>=0.7.0 in /home/studio-lab-user/.conda/envs/videomaev2_v1/lib/python3.8/site-packages (from google-auth-oauthlib<0.5,>=0.4.1->tensorboard==2.9.0->-r requirements.txt (line 11)) (1.3.1)\n",
      "Requirement already satisfied: zipp>=3.1.0 in /home/studio-lab-user/.conda/envs/videomaev2_v1/lib/python3.8/site-packages (from importlib-resources>=3.2.0->matplotlib->-r requirements.txt (line 5)) (3.15.0)\n",
      "Requirement already satisfied: importlib-metadata>=4.4 in /home/studio-lab-user/.conda/envs/videomaev2_v1/lib/python3.8/site-packages (from markdown>=2.6.8->tensorboard==2.9.0->-r requirements.txt (line 11)) (6.6.0)\n",
      "Requirement already satisfied: charset-normalizer<4,>=2 in /home/studio-lab-user/.conda/envs/videomaev2_v1/lib/python3.8/site-packages (from requests<3,>=2.21.0->tensorboard==2.9.0->-r requirements.txt (line 11)) (3.1.0)\n",
      "Requirement already satisfied: idna<4,>=2.5 in /home/studio-lab-user/.conda/envs/videomaev2_v1/lib/python3.8/site-packages (from requests<3,>=2.21.0->tensorboard==2.9.0->-r requirements.txt (line 11)) (3.4)\n",
      "Requirement already satisfied: certifi>=2017.4.17 in /home/studio-lab-user/.conda/envs/videomaev2_v1/lib/python3.8/site-packages (from requests<3,>=2.21.0->tensorboard==2.9.0->-r requirements.txt (line 11)) (2023.5.7)\n",
      "Requirement already satisfied: MarkupSafe>=2.1.1 in /home/studio-lab-user/.conda/envs/videomaev2_v1/lib/python3.8/site-packages (from werkzeug>=1.0.1->tensorboard==2.9.0->-r requirements.txt (line 11)) (2.1.2)\n",
      "Requirement already satisfied: pyasn1<0.6.0,>=0.4.6 in /home/studio-lab-user/.conda/envs/videomaev2_v1/lib/python3.8/site-packages (from pyasn1-modules>=0.2.1->google-auth<3,>=1.6.3->tensorboard==2.9.0->-r requirements.txt (line 11)) (0.5.0)\n",
      "Requirement already satisfied: oauthlib>=3.0.0 in /home/studio-lab-user/.conda/envs/videomaev2_v1/lib/python3.8/site-packages (from requests-oauthlib>=0.7.0->google-auth-oauthlib<0.5,>=0.4.1->tensorboard==2.9.0->-r requirements.txt (line 11)) (3.2.2)\n"
     ]
    }
   ],
   "source": [
    "!pip install -r requirements_copy_v1.txt"
   ]
  },
  {
   "cell_type": "code",
   "execution_count": 4,
   "id": "bfbba9e9-003b-4d24-812e-89016eb7bd07",
   "metadata": {
    "tags": []
   },
   "outputs": [
    {
     "name": "stdout",
     "output_type": "stream",
     "text": [
      "Requirement already satisfied: protobuf==3.20.0 in /home/studio-lab-user/.conda/envs/videomaev2_v1/lib/python3.8/site-packages (3.20.0)\n"
     ]
    }
   ],
   "source": [
    "!conda install -y -c conda-forge mpi4py"
   ]
  },
  {
   "cell_type": "code",
   "execution_count": 5,
   "id": "aeea4a36-b6f8-4951-a79f-cdb54fac7dde",
   "metadata": {},
   "outputs": [
    {
     "name": "stdout",
     "output_type": "stream",
     "text": [
      "Archive:  dataset/UCF101_subset_basketball.zip\n",
      "   creating: UCF101_subset_basketball/\n",
      "  inflating: __MACOSX/._UCF101_subset_basketball  \n",
      "  inflating: UCF101_subset_basketball/.DS_Store  \n",
      "  inflating: __MACOSX/UCF101_subset_basketball/._.DS_Store  \n",
      "   creating: UCF101_subset_basketball/test/\n",
      "  inflating: __MACOSX/UCF101_subset_basketball/._test  \n",
      "  inflating: UCF101_subset_basketball/val.csv  \n",
      "  inflating: __MACOSX/UCF101_subset_basketball/._val.csv  \n",
      "  inflating: UCF101_subset_basketball/test.csv  \n",
      "  inflating: __MACOSX/UCF101_subset_basketball/._test.csv  \n",
      "   creating: UCF101_subset_basketball/train/\n",
      "  inflating: __MACOSX/UCF101_subset_basketball/._train  \n",
      "  inflating: UCF101_subset_basketball/train.csv  \n",
      "  inflating: __MACOSX/UCF101_subset_basketball/._train.csv  \n",
      "   creating: UCF101_subset_basketball/val/\n",
      "  inflating: __MACOSX/UCF101_subset_basketball/._val  \n",
      "  inflating: UCF101_subset_basketball/test/.DS_Store  \n",
      "  inflating: __MACOSX/UCF101_subset_basketball/test/._.DS_Store  \n",
      "   creating: UCF101_subset_basketball/test/Basketball/\n",
      "  inflating: __MACOSX/UCF101_subset_basketball/test/._Basketball  \n",
      "   creating: UCF101_subset_basketball/test/BasketballDunk/\n",
      "  inflating: __MACOSX/UCF101_subset_basketball/test/._BasketballDunk  \n",
      "  inflating: UCF101_subset_basketball/train/.DS_Store  \n",
      "  inflating: __MACOSX/UCF101_subset_basketball/train/._.DS_Store  \n",
      "   creating: UCF101_subset_basketball/train/Basketball/\n",
      "  inflating: __MACOSX/UCF101_subset_basketball/train/._Basketball  \n",
      "   creating: UCF101_subset_basketball/train/BasketballDunk/\n",
      "  inflating: __MACOSX/UCF101_subset_basketball/train/._BasketballDunk  \n",
      "  inflating: UCF101_subset_basketball/val/.DS_Store  \n",
      "  inflating: __MACOSX/UCF101_subset_basketball/val/._.DS_Store  \n",
      "   creating: UCF101_subset_basketball/val/Basketball/\n",
      "  inflating: __MACOSX/UCF101_subset_basketball/val/._Basketball  \n",
      "   creating: UCF101_subset_basketball/val/BasketballDunk/\n",
      "  inflating: __MACOSX/UCF101_subset_basketball/val/._BasketballDunk  \n",
      "  inflating: UCF101_subset_basketball/test/Basketball/v_Basketball_g06_c02.avi  \n",
      "  inflating: __MACOSX/UCF101_subset_basketball/test/Basketball/._v_Basketball_g06_c02.avi  \n",
      "  inflating: UCF101_subset_basketball/test/Basketball/.DS_Store  \n",
      "  inflating: __MACOSX/UCF101_subset_basketball/test/Basketball/._.DS_Store  \n",
      "  inflating: UCF101_subset_basketball/test/Basketball/v_Basketball_g06_c04.avi  \n",
      "  inflating: __MACOSX/UCF101_subset_basketball/test/Basketball/._v_Basketball_g06_c04.avi  \n",
      "  inflating: UCF101_subset_basketball/test/Basketball/v_Basketball_g05_c02.avi  \n",
      "  inflating: __MACOSX/UCF101_subset_basketball/test/Basketball/._v_Basketball_g05_c02.avi  \n",
      "  inflating: UCF101_subset_basketball/test/Basketball/v_Basketball_g05_c04.avi  \n",
      "  inflating: __MACOSX/UCF101_subset_basketball/test/Basketball/._v_Basketball_g05_c04.avi  \n",
      "  inflating: UCF101_subset_basketball/test/Basketball/v_Basketball_g18_c02.avi  \n",
      "  inflating: __MACOSX/UCF101_subset_basketball/test/Basketball/._v_Basketball_g18_c02.avi  \n",
      "  inflating: UCF101_subset_basketball/test/Basketball/v_Basketball_g18_c04.avi  \n",
      "  inflating: __MACOSX/UCF101_subset_basketball/test/Basketball/._v_Basketball_g18_c04.avi  \n",
      "  inflating: UCF101_subset_basketball/test/Basketball/v_Basketball_g02_c02.avi  \n",
      "  inflating: __MACOSX/UCF101_subset_basketball/test/Basketball/._v_Basketball_g02_c02.avi  \n",
      "  inflating: UCF101_subset_basketball/test/Basketball/v_Basketball_g24_c02.avi  \n",
      "  inflating: __MACOSX/UCF101_subset_basketball/test/Basketball/._v_Basketball_g24_c02.avi  \n",
      "  inflating: UCF101_subset_basketball/test/Basketball/v_Basketball_g02_c04.avi  \n",
      "  inflating: __MACOSX/UCF101_subset_basketball/test/Basketball/._v_Basketball_g02_c04.avi  \n",
      "  inflating: UCF101_subset_basketball/test/Basketball/v_Basketball_g02_c06.avi  \n",
      "  inflating: __MACOSX/UCF101_subset_basketball/test/Basketball/._v_Basketball_g02_c06.avi  \n",
      "  inflating: UCF101_subset_basketball/test/Basketball/v_Basketball_g24_c04.avi  \n",
      "  inflating: __MACOSX/UCF101_subset_basketball/test/Basketball/._v_Basketball_g24_c04.avi  \n",
      "  inflating: UCF101_subset_basketball/test/BasketballDunk/.DS_Store  \n",
      "  inflating: __MACOSX/UCF101_subset_basketball/test/BasketballDunk/._.DS_Store  \n",
      "  inflating: UCF101_subset_basketball/test/BasketballDunk/v_BasketballDunk_g12_c03.avi  \n",
      "  inflating: __MACOSX/UCF101_subset_basketball/test/BasketballDunk/._v_BasketballDunk_g12_c03.avi  \n",
      "  inflating: UCF101_subset_basketball/test/BasketballDunk/v_BasketballDunk_g12_c01.avi  \n",
      "  inflating: __MACOSX/UCF101_subset_basketball/test/BasketballDunk/._v_BasketballDunk_g12_c01.avi  \n",
      "  inflating: UCF101_subset_basketball/test/BasketballDunk/v_BasketballDunk_g12_c05.avi  \n",
      "  inflating: __MACOSX/UCF101_subset_basketball/test/BasketballDunk/._v_BasketballDunk_g12_c05.avi  \n",
      "  inflating: UCF101_subset_basketball/test/BasketballDunk/v_BasketballDunk_g14_c04.avi  \n",
      "  inflating: __MACOSX/UCF101_subset_basketball/test/BasketballDunk/._v_BasketballDunk_g14_c04.avi  \n",
      "  inflating: UCF101_subset_basketball/test/BasketballDunk/v_BasketballDunk_g14_c06.avi  \n",
      "  inflating: __MACOSX/UCF101_subset_basketball/test/BasketballDunk/._v_BasketballDunk_g14_c06.avi  \n",
      "  inflating: UCF101_subset_basketball/test/BasketballDunk/v_BasketballDunk_g14_c02.avi  \n",
      "  inflating: __MACOSX/UCF101_subset_basketball/test/BasketballDunk/._v_BasketballDunk_g14_c02.avi  \n",
      "  inflating: UCF101_subset_basketball/train/Basketball/v_Basketball_g16_c02.avi  \n",
      "  inflating: __MACOSX/UCF101_subset_basketball/train/Basketball/._v_Basketball_g16_c02.avi  \n",
      "  inflating: UCF101_subset_basketball/train/Basketball/v_Basketball_g17_c04.avi  \n",
      "  inflating: __MACOSX/UCF101_subset_basketball/train/Basketball/._v_Basketball_g17_c04.avi  \n",
      "  inflating: UCF101_subset_basketball/train/Basketball/.DS_Store  \n",
      "  inflating: __MACOSX/UCF101_subset_basketball/train/Basketball/._.DS_Store  \n",
      "  inflating: UCF101_subset_basketball/train/Basketball/v_Basketball_g21_c03.avi  \n",
      "  inflating: __MACOSX/UCF101_subset_basketball/train/Basketball/._v_Basketball_g21_c03.avi  \n",
      "  inflating: UCF101_subset_basketball/train/Basketball/v_Basketball_g16_c06.avi  \n",
      "  inflating: __MACOSX/UCF101_subset_basketball/train/Basketball/._v_Basketball_g16_c06.avi  \n",
      "  inflating: UCF101_subset_basketball/train/Basketball/v_Basketball_g07_c02.avi  \n",
      "  inflating: __MACOSX/UCF101_subset_basketball/train/Basketball/._v_Basketball_g07_c02.avi  \n",
      "  inflating: UCF101_subset_basketball/train/Basketball/v_Basketball_g15_c01.avi  \n",
      "  inflating: __MACOSX/UCF101_subset_basketball/train/Basketball/._v_Basketball_g15_c01.avi  \n",
      "  inflating: UCF101_subset_basketball/train/Basketball/v_Basketball_g14_c04.avi  \n",
      "  inflating: __MACOSX/UCF101_subset_basketball/train/Basketball/._v_Basketball_g14_c04.avi  \n",
      "  inflating: UCF101_subset_basketball/train/Basketball/v_Basketball_g04_c04.avi  \n",
      "  inflating: __MACOSX/UCF101_subset_basketball/train/Basketball/._v_Basketball_g04_c04.avi  \n",
      "  inflating: UCF101_subset_basketball/train/Basketball/v_Basketball_g22_c05.avi  \n",
      "  inflating: __MACOSX/UCF101_subset_basketball/train/Basketball/._v_Basketball_g22_c05.avi  \n",
      "  inflating: UCF101_subset_basketball/train/Basketball/v_Basketball_g23_c04.avi  \n",
      "  inflating: __MACOSX/UCF101_subset_basketball/train/Basketball/._v_Basketball_g23_c04.avi  \n",
      "  inflating: UCF101_subset_basketball/train/Basketball/v_Basketball_g15_c07.avi  \n",
      "  inflating: __MACOSX/UCF101_subset_basketball/train/Basketball/._v_Basketball_g15_c07.avi  \n",
      "  inflating: UCF101_subset_basketball/train/Basketball/v_Basketball_g04_c02.avi  \n",
      "  inflating: __MACOSX/UCF101_subset_basketball/train/Basketball/._v_Basketball_g04_c02.avi  \n",
      "  inflating: UCF101_subset_basketball/train/Basketball/v_Basketball_g14_c02.avi  \n",
      "  inflating: __MACOSX/UCF101_subset_basketball/train/Basketball/._v_Basketball_g14_c02.avi  \n",
      "  inflating: UCF101_subset_basketball/train/Basketball/v_Basketball_g23_c06.avi  \n",
      "  inflating: __MACOSX/UCF101_subset_basketball/train/Basketball/._v_Basketball_g23_c06.avi  \n",
      "  inflating: UCF101_subset_basketball/train/Basketball/v_Basketball_g19_c07.avi  \n",
      "  inflating: __MACOSX/UCF101_subset_basketball/train/Basketball/._v_Basketball_g19_c07.avi  \n",
      "  inflating: UCF101_subset_basketball/train/Basketball/v_Basketball_g01_c01.avi  \n",
      "  inflating: __MACOSX/UCF101_subset_basketball/train/Basketball/._v_Basketball_g01_c01.avi  \n",
      "  inflating: UCF101_subset_basketball/train/Basketball/v_Basketball_g09_c04.avi  \n",
      "  inflating: __MACOSX/UCF101_subset_basketball/train/Basketball/._v_Basketball_g09_c04.avi  \n",
      "  inflating: UCF101_subset_basketball/train/Basketball/v_Basketball_g11_c02.avi  \n",
      "  inflating: __MACOSX/UCF101_subset_basketball/train/Basketball/._v_Basketball_g11_c02.avi  \n",
      "  inflating: UCF101_subset_basketball/train/Basketball/v_Basketball_g01_c03.avi  \n",
      "  inflating: __MACOSX/UCF101_subset_basketball/train/Basketball/._v_Basketball_g01_c03.avi  \n",
      "  inflating: UCF101_subset_basketball/train/Basketball/v_Basketball_g19_c05.avi  \n",
      "  inflating: __MACOSX/UCF101_subset_basketball/train/Basketball/._v_Basketball_g19_c05.avi  \n",
      "  inflating: UCF101_subset_basketball/train/Basketball/v_Basketball_g08_c04.avi  \n",
      "  inflating: __MACOSX/UCF101_subset_basketball/train/Basketball/._v_Basketball_g08_c04.avi  \n",
      "  inflating: UCF101_subset_basketball/train/Basketball/v_Basketball_g01_c07.avi  \n",
      "  inflating: __MACOSX/UCF101_subset_basketball/train/Basketball/._v_Basketball_g01_c07.avi  \n",
      "  inflating: UCF101_subset_basketball/train/Basketball/v_Basketball_g09_c02.avi  \n",
      "  inflating: __MACOSX/UCF101_subset_basketball/train/Basketball/._v_Basketball_g09_c02.avi  \n",
      "  inflating: UCF101_subset_basketball/train/Basketball/v_Basketball_g01_c05.avi  \n",
      "  inflating: __MACOSX/UCF101_subset_basketball/train/Basketball/._v_Basketball_g01_c05.avi  \n",
      "  inflating: UCF101_subset_basketball/train/Basketball/v_Basketball_g03_c06.avi  \n",
      "  inflating: __MACOSX/UCF101_subset_basketball/train/Basketball/._v_Basketball_g03_c06.avi  \n",
      "  inflating: UCF101_subset_basketball/train/Basketball/v_Basketball_g12_c01.avi  \n",
      "  inflating: __MACOSX/UCF101_subset_basketball/train/Basketball/._v_Basketball_g12_c01.avi  \n",
      "  inflating: UCF101_subset_basketball/train/Basketball/v_Basketball_g13_c04.avi  \n",
      "  inflating: __MACOSX/UCF101_subset_basketball/train/Basketball/._v_Basketball_g13_c04.avi  \n",
      "  inflating: UCF101_subset_basketball/train/Basketball/v_Basketball_g03_c04.avi  \n",
      "  inflating: __MACOSX/UCF101_subset_basketball/train/Basketball/._v_Basketball_g03_c04.avi  \n",
      "  inflating: UCF101_subset_basketball/train/Basketball/v_Basketball_g25_c02.avi  \n",
      "  inflating: __MACOSX/UCF101_subset_basketball/train/Basketball/._v_Basketball_g25_c02.avi  \n",
      "  inflating: UCF101_subset_basketball/train/Basketball/v_Basketball_g13_c02.avi  \n",
      "  inflating: __MACOSX/UCF101_subset_basketball/train/Basketball/._v_Basketball_g13_c02.avi  \n",
      "  inflating: UCF101_subset_basketball/train/BasketballDunk/v_BasketballDunk_g01_c02.avi  \n",
      "  inflating: __MACOSX/UCF101_subset_basketball/train/BasketballDunk/._v_BasketballDunk_g01_c02.avi  \n",
      "  inflating: UCF101_subset_basketball/train/BasketballDunk/.DS_Store  \n",
      "  inflating: __MACOSX/UCF101_subset_basketball/train/BasketballDunk/._.DS_Store  \n",
      "  inflating: UCF101_subset_basketball/train/BasketballDunk/v_BasketballDunk_g18_c05.avi  \n",
      "  inflating: __MACOSX/UCF101_subset_basketball/train/BasketballDunk/._v_BasketballDunk_g18_c05.avi  \n",
      "  inflating: UCF101_subset_basketball/train/BasketballDunk/v_BasketballDunk_g08_c05.avi  \n",
      "  inflating: __MACOSX/UCF101_subset_basketball/train/BasketballDunk/._v_BasketballDunk_g08_c05.avi  \n",
      "  inflating: UCF101_subset_basketball/train/BasketballDunk/v_BasketballDunk_g09_c02.avi  \n",
      "  inflating: __MACOSX/UCF101_subset_basketball/train/BasketballDunk/._v_BasketballDunk_g09_c02.avi  \n",
      "  inflating: UCF101_subset_basketball/train/BasketballDunk/v_BasketballDunk_g10_c01.avi  \n",
      "  inflating: __MACOSX/UCF101_subset_basketball/train/BasketballDunk/._v_BasketballDunk_g10_c01.avi  \n",
      "  inflating: UCF101_subset_basketball/train/BasketballDunk/v_BasketballDunk_g11_c04.avi  \n",
      "  inflating: __MACOSX/UCF101_subset_basketball/train/BasketballDunk/._v_BasketballDunk_g11_c04.avi  \n",
      "  inflating: UCF101_subset_basketball/train/BasketballDunk/v_BasketballDunk_g01_c04.avi  \n",
      "  inflating: __MACOSX/UCF101_subset_basketball/train/BasketballDunk/._v_BasketballDunk_g01_c04.avi  \n",
      "  inflating: UCF101_subset_basketball/train/BasketballDunk/v_BasketballDunk_g19_c03.avi  \n",
      "  inflating: __MACOSX/UCF101_subset_basketball/train/BasketballDunk/._v_BasketballDunk_g19_c03.avi  \n",
      "  inflating: UCF101_subset_basketball/train/BasketballDunk/v_BasketballDunk_g02_c03.avi  \n",
      "  inflating: __MACOSX/UCF101_subset_basketball/train/BasketballDunk/._v_BasketballDunk_g02_c03.avi  \n",
      "  inflating: UCF101_subset_basketball/train/BasketballDunk/v_BasketballDunk_g13_c02.avi  \n",
      "  inflating: __MACOSX/UCF101_subset_basketball/train/BasketballDunk/._v_BasketballDunk_g13_c02.avi  \n",
      "  inflating: UCF101_subset_basketball/train/BasketballDunk/v_BasketballDunk_g25_c01.avi  \n",
      "  inflating: __MACOSX/UCF101_subset_basketball/train/BasketballDunk/._v_BasketballDunk_g25_c01.avi  \n",
      "  inflating: UCF101_subset_basketball/train/BasketballDunk/v_BasketballDunk_g03_c03.avi  \n",
      "  inflating: __MACOSX/UCF101_subset_basketball/train/BasketballDunk/._v_BasketballDunk_g03_c03.avi  \n",
      "  inflating: UCF101_subset_basketball/train/BasketballDunk/v_BasketballDunk_g24_c04.avi  \n",
      "  inflating: __MACOSX/UCF101_subset_basketball/train/BasketballDunk/._v_BasketballDunk_g24_c04.avi  \n",
      "  inflating: UCF101_subset_basketball/train/BasketballDunk/v_BasketballDunk_g16_c02.avi  \n",
      "  inflating: __MACOSX/UCF101_subset_basketball/train/BasketballDunk/._v_BasketballDunk_g16_c02.avi  \n",
      "  inflating: UCF101_subset_basketball/train/BasketballDunk/v_BasketballDunk_g07_c05.avi  \n",
      "  inflating: __MACOSX/UCF101_subset_basketball/train/BasketballDunk/._v_BasketballDunk_g07_c05.avi  \n",
      "  inflating: UCF101_subset_basketball/train/BasketballDunk/v_BasketballDunk_g06_c01.avi  \n",
      "  inflating: __MACOSX/UCF101_subset_basketball/train/BasketballDunk/._v_BasketballDunk_g06_c01.avi  \n",
      "  inflating: UCF101_subset_basketball/train/BasketballDunk/v_BasketballDunk_g21_c03.avi  \n",
      "  inflating: __MACOSX/UCF101_subset_basketball/train/BasketballDunk/._v_BasketballDunk_g21_c03.avi  \n",
      "  inflating: UCF101_subset_basketball/train/BasketballDunk/v_BasketballDunk_g16_c04.avi  \n",
      "  inflating: __MACOSX/UCF101_subset_basketball/train/BasketballDunk/._v_BasketballDunk_g16_c04.avi  \n",
      "  inflating: UCF101_subset_basketball/train/BasketballDunk/v_BasketballDunk_g16_c06.avi  \n",
      "  inflating: __MACOSX/UCF101_subset_basketball/train/BasketballDunk/._v_BasketballDunk_g16_c06.avi  \n",
      "  inflating: UCF101_subset_basketball/train/BasketballDunk/v_BasketballDunk_g07_c03.avi  \n",
      "  inflating: __MACOSX/UCF101_subset_basketball/train/BasketballDunk/._v_BasketballDunk_g07_c03.avi  \n",
      "  inflating: UCF101_subset_basketball/train/BasketballDunk/v_BasketballDunk_g21_c01.avi  \n",
      "  inflating: __MACOSX/UCF101_subset_basketball/train/BasketballDunk/._v_BasketballDunk_g21_c01.avi  \n",
      "  inflating: UCF101_subset_basketball/train/BasketballDunk/v_BasketballDunk_g17_c02.avi  \n",
      "  inflating: __MACOSX/UCF101_subset_basketball/train/BasketballDunk/._v_BasketballDunk_g17_c02.avi  \n",
      "  inflating: UCF101_subset_basketball/train/BasketballDunk/v_BasketballDunk_g20_c05.avi  \n",
      "  inflating: __MACOSX/UCF101_subset_basketball/train/BasketballDunk/._v_BasketballDunk_g20_c05.avi  \n",
      "  inflating: UCF101_subset_basketball/train/BasketballDunk/v_BasketballDunk_g15_c01.avi  \n",
      "  inflating: __MACOSX/UCF101_subset_basketball/train/BasketballDunk/._v_BasketballDunk_g15_c01.avi  \n",
      "  inflating: UCF101_subset_basketball/train/BasketballDunk/v_BasketballDunk_g23_c01.avi  \n",
      "  inflating: __MACOSX/UCF101_subset_basketball/train/BasketballDunk/._v_BasketballDunk_g23_c01.avi  \n",
      "  inflating: UCF101_subset_basketball/train/BasketballDunk/v_BasketballDunk_g15_c03.avi  \n",
      "  inflating: __MACOSX/UCF101_subset_basketball/train/BasketballDunk/._v_BasketballDunk_g15_c03.avi  \n",
      "  inflating: UCF101_subset_basketball/train/BasketballDunk/v_BasketballDunk_g23_c05.avi  \n",
      "  inflating: __MACOSX/UCF101_subset_basketball/train/BasketballDunk/._v_BasketballDunk_g23_c05.avi  \n",
      "  inflating: UCF101_subset_basketball/train/BasketballDunk/v_BasketballDunk_g15_c05.avi  \n",
      "  inflating: __MACOSX/UCF101_subset_basketball/train/BasketballDunk/._v_BasketballDunk_g15_c05.avi  \n",
      "  inflating: UCF101_subset_basketball/train/BasketballDunk/v_BasketballDunk_g22_c03.avi  \n",
      "  inflating: __MACOSX/UCF101_subset_basketball/train/BasketballDunk/._v_BasketballDunk_g22_c03.avi  \n",
      "  inflating: UCF101_subset_basketball/train/BasketballDunk/v_BasketballDunk_g04_c01.avi  \n",
      "  inflating: __MACOSX/UCF101_subset_basketball/train/BasketballDunk/._v_BasketballDunk_g04_c01.avi  \n",
      "  inflating: UCF101_subset_basketball/val/Basketball/v_Basketball_g20_c02.avi  \n",
      "  inflating: __MACOSX/UCF101_subset_basketball/val/Basketball/._v_Basketball_g20_c02.avi  \n",
      "  inflating: UCF101_subset_basketball/val/Basketball/.DS_Store  \n",
      "  inflating: __MACOSX/UCF101_subset_basketball/val/Basketball/._.DS_Store  \n",
      "  inflating: UCF101_subset_basketball/val/Basketball/v_Basketball_g20_c04.avi  \n",
      "  inflating: __MACOSX/UCF101_subset_basketball/val/Basketball/._v_Basketball_g20_c04.avi  \n",
      "  inflating: UCF101_subset_basketball/val/Basketball/v_Basketball_g10_c03.avi  \n",
      "  inflating: __MACOSX/UCF101_subset_basketball/val/Basketball/._v_Basketball_g10_c03.avi  \n",
      "  inflating: UCF101_subset_basketball/val/BasketballDunk/.DS_Store  \n",
      "  inflating: __MACOSX/UCF101_subset_basketball/val/BasketballDunk/._.DS_Store  \n",
      "  inflating: UCF101_subset_basketball/val/BasketballDunk/v_BasketballDunk_g05_c01.avi  \n",
      "  inflating: __MACOSX/UCF101_subset_basketball/val/BasketballDunk/._v_BasketballDunk_g05_c01.avi  \n",
      "  inflating: UCF101_subset_basketball/val/BasketballDunk/v_BasketballDunk_g05_c03.avi  \n",
      "  inflating: __MACOSX/UCF101_subset_basketball/val/BasketballDunk/._v_BasketballDunk_g05_c03.avi  \n",
      "  inflating: UCF101_subset_basketball/val/BasketballDunk/v_BasketballDunk_g05_c05.avi  \n",
      "  inflating: __MACOSX/UCF101_subset_basketball/val/BasketballDunk/._v_BasketballDunk_g05_c05.avi  \n"
     ]
    }
   ],
   "source": [
    "!pip uninstall deepspeed"
   ]
  },
  {
   "cell_type": "code",
   "execution_count": null,
   "id": "7c8925f4",
   "metadata": {},
   "outputs": [],
   "source": [
    "!DS_BUILD_FUSED_ADAM=1 pip install deepspeed"
   ]
  },
  {
   "cell_type": "code",
   "execution_count": 2,
   "id": "c32c7374-20f2-4fde-9227-bd0f83fb82aa",
   "metadata": {
    "collapsed": true,
    "jupyter": {
     "outputs_hidden": true
    },
    "tags": []
   },
   "outputs": [
    {
     "name": "stdout",
     "output_type": "stream",
     "text": [
      "+ export MASTER_PORT=15016\n",
      "+ MASTER_PORT=15016\n",
      "+ export OMP_NUM_THREADS=1\n",
      "+ OMP_NUM_THREADS=1\n",
      "+ OUTPUT_DIR=output/vit_g_hybrid_pt_1200e_k710_ft\n",
      "+ DATA_PATH=dataset/UCF101_subset_basketball\n",
      "+ MODEL_PATH=models/vit_g_hybrid_pt_1200e_k710_ft.pth\n",
      "+ JOB_NAME=k710_finetune\n",
      "+ PARTITION=video\n",
      "+ GPUS=1\n",
      "+ CPUS_PER_TASK=4\n",
      "+ PY_ARGS=\n",
      "+ python run_class_finetuning.py --model vit_base_patch16_224 --data_set Kinetics-710 --nb_classes 710 --data_path dataset/UCF101_subset_basketball --finetune models/vit_g_hybrid_pt_1200e_k710_ft.pth --log_dir output/vit_g_hybrid_pt_1200e_k710_ft --output_dir output/vit_g_hybrid_pt_1200e_k710_ft --batch_size 1 --input_size 224 --short_side_size 224 --save_ckpt_freq 10 --num_frames 16 --sampling_rate 4 --num_sample 2 --num_workers 10 --opt adamw --lr 7e-4 --drop_path 0.1 --head_drop_rate 0.0 --layer_decay 0.75 --opt_betas 0.9 0.999 --warmup_epochs 5 --epochs 90 --test_num_segment 5 --test_num_crop 3 --dist_eval --enable_deepspeed\n",
      "Not using distributed mode\n",
      "Namespace(aa='rand-m7-n4-mstd0.5-inc1', attn_drop_rate=0.0, auto_resume=True, batch_size=1, clip_grad=None, color_jitter=0.4, crop_pct=None, cutmix=1.0, cutmix_minmax=None, data_path='dataset/UCF101_subset_basketball', data_root='', data_set='Kinetics-710', deepscale=False, deepscale_config=None, deepspeed=False, deepspeed_config='output/vit_g_hybrid_pt_1200e_k710_ft/deepspeed_config.json', deepspeed_mpi=False, device='cuda', disable_eval_during_finetuning=False, dist_eval=True, dist_on_itp=False, dist_url='env://', distributed=False, drop=0.0, drop_path=0.1, enable_deepspeed=True, epochs=90, eval=False, eval_data_path=None, finetune='models/vit_g_hybrid_pt_1200e_k710_ft.pth', fname_tmpl='img_{:05}.jpg', head_drop_rate=0.0, imagenet_default_mean_and_std=True, init_scale=0.001, input_size=224, layer_decay=0.75, local_rank=-1, log_dir='output/vit_g_hybrid_pt_1200e_k710_ft', lr=0.0007, min_lr=1e-06, mixup=0.8, mixup_mode='batch', mixup_prob=1.0, mixup_switch_prob=0.5, model='vit_base_patch16_224', model_ema=False, model_ema_decay=0.9999, model_ema_force_cpu=False, model_key='model|module', model_prefix='', momentum=0.9, nb_classes=710, num_frames=16, num_sample=2, num_segments=1, num_workers=10, opt='adamw', opt_betas=[0.9, 0.999], opt_eps=1e-08, output_dir='output/vit_g_hybrid_pt_1200e_k710_ft', pin_mem=True, recount=1, remode='pixel', reprob=0.25, resplit=False, resume='', sampling_rate=4, save_ckpt=True, save_ckpt_freq=10, seed=0, short_side_size=224, smoothing=0.1, sparse_sample=False, start_epoch=0, start_idx=1, test_num_crop=3, test_num_segment=5, train_interpolation='bicubic', tubelet_size=2, update_freq=1, use_mean_pooling=True, validation=False, warmup_epochs=5, warmup_lr=1e-08, warmup_steps=-1, weight_decay=0.05, weight_decay_end=None, with_checkpoint=False, world_size=1)\n",
      "Number of the class = 710\n",
      "Number of the class = 710\n",
      "Number of the class = 710\n",
      "Sampler_train = <torch.utils.data.distributed.DistributedSampler object at 0x7eff73c77b80>\n",
      "/home/studio-lab-user/.conda/envs/videomaev2_v1/lib/python3.8/site-packages/torch/utils/data/dataloader.py:554: UserWarning: This DataLoader will create 10 worker processes in total. Our suggested max number of worker in current system is 4, which is smaller than what this DataLoader is going to create. Please be aware that excessive worker creation might get DataLoader running slow or even freeze, lower the worker number to avoid potential slowness/freeze if necessary.\n",
      "  warnings.warn(_create_warning_msg(\n",
      "Mixup is activated!\n",
      "Patch size = (16, 16)\n",
      "Traceback (most recent call last):\n",
      "  File \"run_class_finetuning.py\", line 927, in <module>\n",
      "    main(opts, ds_init)\n",
      "  File \"run_class_finetuning.py\", line 546, in main\n",
      "    checkpoint = torch.load(args.finetune, map_location='cpu')\n",
      "  File \"/home/studio-lab-user/.conda/envs/videomaev2_v1/lib/python3.8/site-packages/torch/serialization.py\", line 777, in load\n",
      "    with _open_zipfile_reader(opened_file) as opened_zipfile:\n",
      "  File \"/home/studio-lab-user/.conda/envs/videomaev2_v1/lib/python3.8/site-packages/torch/serialization.py\", line 282, in __init__\n",
      "    super(_open_zipfile_reader, self).__init__(torch._C.PyTorchFileReader(name_or_buffer))\n",
      "RuntimeError: PytorchStreamReader failed reading zip archive: failed finding central directory\n"
     ]
    }
   ],
   "source": [
    "!bash scripts/finetune/vit_g_k710_ft_copy.sh k710_finetune"
   ]
  },
  {
   "attachments": {},
   "cell_type": "markdown",
   "id": "00babaab-5928-4a7b-b4d5-d1f4cd1b99c0",
   "metadata": {},
   "source": [
    "## Stopping Point\n",
    "\n",
    "### Latest Error \n",
    "\n",
    "Patch size = (16, 16)\n",
    "Traceback (most recent call last):\n",
    "  File \"run_class_finetuning.py\", line 927, in <module>\n",
    "    main(opts, ds_init)\n",
    "  File \"run_class_finetuning.py\", line 546, in main\n",
    "    checkpoint = torch.load(args.finetune, map_location='cpu')\n",
    "  File \"/home/studio-lab-user/.conda/envs/videomaev2_v1/lib/python3.8/site-packages/torch/serialization.py\", line 777, in load\n",
    "    with _open_zipfile_reader(opened_file) as opened_zipfile:\n",
    "  File \"/home/studio-lab-user/.conda/envs/videomaev2_v1/lib/python3.8/site-packages/torch/serialization.py\", line 282, in __init__\n",
    "    super(_open_zipfile_reader, self).__init__(torch._C.PyTorchFileReader(name_or_buffer))\n",
    "RuntimeError: PytorchStreamReader failed reading zip archive: failed finding central directory"
   ]
  },
  {
   "cell_type": "code",
   "execution_count": null,
   "id": "464c1157-3ffb-4787-a912-890a3829634c",
   "metadata": {},
   "outputs": [],
   "source": []
  }
 ],
 "metadata": {
  "kernelspec": {
   "display_name": "videomaev2_v1:Python",
   "language": "python",
   "name": "conda-env-videomaev2_v1-py"
  },
  "language_info": {
   "codemirror_mode": {
    "name": "ipython",
    "version": 3
   },
   "file_extension": ".py",
   "mimetype": "text/x-python",
   "name": "python",
   "nbconvert_exporter": "python",
   "pygments_lexer": "ipython3",
   "version": "3.8.16"
  }
 },
 "nbformat": 4,
 "nbformat_minor": 5
}
